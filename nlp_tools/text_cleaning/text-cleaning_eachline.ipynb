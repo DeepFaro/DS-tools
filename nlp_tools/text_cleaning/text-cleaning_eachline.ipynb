{
 "cells": [
  {
   "cell_type": "code",
   "execution_count": 1,
   "id": "6478be70-e34c-4681-87f3-c02400c057c8",
   "metadata": {},
   "outputs": [],
   "source": [
    "import re\n",
    "import string"
   ]
  },
  {
   "cell_type": "code",
   "execution_count": 2,
   "id": "63b870a5",
   "metadata": {},
   "outputs": [],
   "source": [
    "def clean_characters(line, remove_list, replacement):\n",
    "    for character in line:\n",
    "        if character in remove_list:\n",
    "            line = line.replace(character, replacement)\n",
    "            \n",
    "    return line\n",
    "\n",
    "def replace_specific_words(line, remove_list, replacement):\n",
    "\n",
    "    for remove_word in remove_list:\n",
    "        if remove_word in line:\n",
    "            line = line.replace(remove_word, replacement)\n",
    "    return line \n",
    "\n",
    "def clean_specific_words(line, remove_list):\n",
    "\n",
    "    for remove_word in remove_list:\n",
    "        if remove_word in line:\n",
    "            print(\"Remove : \", line)\n",
    "            line = ''\n",
    "    return line \n",
    "\n",
    "def replace_eng_words(line, replacement):\n",
    "    a_to_z = list(string.ascii_lowercase)\n",
    "    A_to_Z = list(string.ascii_uppercase)\n",
    "    all_alphabet = a_to_z + A_to_Z\n",
    "\n",
    "    for character in line:\n",
    "        if character in all_alphabet:\n",
    "            line = line.replace(character, replacement)\n",
    "\n",
    "    return line\n"
   ]
  },
  {
   "cell_type": "code",
   "execution_count": 3,
   "id": "1ab0514a",
   "metadata": {},
   "outputs": [],
   "source": [
    "def remove_tel_number(text:str) -> str:\n",
    "    \n",
    "    phone_regex = '(?:\\+ *)?\\d[\\d\\- ]{7,}\\d'\n",
    "    list_phone_numbers = re.findall(phone_regex, text)\n",
    "    #print(f\"--------list_phone_numbers---------- : {list_phone_numbers}\")\n",
    "    for _phone in list_phone_numbers:\n",
    "        text = text.replace(_phone, \"\")\n",
    "    return text\n",
    "\n",
    "def remove_link_in_text(text: str) -> str:\n",
    "    text = re.sub(r'http\\S+', '', text)\n",
    "    text = re.sub(r'(?:(?:https?|ftp):\\/\\/)?[\\w]+\\.[\\w/\\-&?=%.]+', '', text, flags=re.MULTILINE)\n",
    "    return text\n",
    "\n",
    "def remove_account_in_text(text: str) ->str:\n",
    "    text = re.sub(r'@[^\\s]+','',text)\n",
    "    return text\n",
    "\n",
    "def clean_date(line, replacement):\n",
    "\n",
    "    #yy/mm/dd | dd/mm/yy | mm/dd/yy\n",
    "    date_re = '(20[0-9][0-9]|19[0-9][0-9])(年)([1-9]|1[0-2]|0[0-9])(月)([1-9]+|1[0-9]+|2[0-9]+|3[0-1]+|0[0-9]+)(日 更新)|(20[0-9][0-9]|19[0-9][0-9])(.|-|\\/)([1-9]|1[0-2]|0[0-9])(.|-|\\/)([1-9]+|1[0-9]+|2[0-9]+|3[0-1]+|0[0-9]+)|([1-9]|1[0-9]|2[0-9]|3[0-1]|0[0-9])(.|-|\\/)([1-9]|1[0-2]|0[0-9])(.|-|\\/)(20[0-9][0-9]|19[0-9][0-9])|([1-9]|1[0-2]|0[0-9])(.|-|\\/)([1-9]|1[0-9]|2[0-9]|3[0-1]|0[0-9])(.|-|\\/)(20[0-9][0-9]|19[0-9][0-9])'\n",
    "\n",
    "    dates = re.findall(date_re,line)\n",
    "    dates = [''.join(dates[i]) for i in range(len(dates))]\n",
    "    for date in dates:\n",
    "        if date in line:\n",
    "            line = line.replace(date, replacement)\n",
    "    return line"
   ]
  },
  {
   "cell_type": "code",
   "execution_count": 4,
   "id": "d5f33bd3-bd9f-4262-9eb7-24875f2fed59",
   "metadata": {},
   "outputs": [],
   "source": [
    "def txt_to_list(fname):\n",
    "    file = open(fname, \"r\", encoding='utf-8')\n",
    "    item_list = []\n",
    "\n",
    "    for line in file:\n",
    "        line = line.strip()\n",
    "        item_list.append(line.replace('\\n',''))\n",
    "    return item_list\n",
    "\n",
    "def write_new_file(fname, line):\n",
    "    file = open(fname, \"a\", encoding='utf-8')\n",
    "    file.write(line+\"\\n\")\n",
    "\n",
    "def read_line(fname):\n",
    "    file = open(fname, \"r\", encoding='utf-8')\n",
    "    item_list = []\n",
    "\n",
    "    for line in file:\n",
    "        line = line.strip()\n",
    "        item_list.append(line)\n",
    "    return item_list\n",
    "\n",
    "def create_txt(item_list, fname):\n",
    "    f = open(fname, \"a\", encoding='utf-8')\n",
    "    for i in item_list:\n",
    "        f.write(f'{i} \\n')"
   ]
  },
  {
   "cell_type": "code",
   "execution_count": 5,
   "id": "601a3ffb-273e-4277-9daf-4002fb0e1d85",
   "metadata": {},
   "outputs": [],
   "source": [
    "emoji_list = txt_to_list(fname='emojis.txt')\n",
    "replace_list = txt_to_list(fname='replace_words.txt')\n",
    "special_words_list = txt_to_list(fname = 'specific_words.txt')"
   ]
  },
  {
   "cell_type": "code",
   "execution_count": 6,
   "id": "578535cd",
   "metadata": {},
   "outputs": [],
   "source": [
    "LENGTH_TR = 25"
   ]
  },
  {
   "cell_type": "markdown",
   "id": "3dd8664e",
   "metadata": {},
   "source": [
    "## clean data and write section by section with new line"
   ]
  },
  {
   "cell_type": "code",
   "execution_count": 8,
   "id": "cd41cb56-67f6-46b9-992c-0dd758e8967f",
   "metadata": {},
   "outputs": [],
   "source": [
    "input_text_file = r\"test.txt\"\n",
    "after_clean_file = r'total-clean-travel.txt'\n",
    "\n",
    "sentences  = read_line(input_text_file)\n",
    "cleaned_data = []\n",
    "for sentence in sentences:\n",
    "    if sentence == \"\":\n",
    "        cleaned_data.append(\"\")\n",
    "    else:\n",
    "        cleaned = clean_specific_words(sentence, remove_list=special_words_list)\n",
    "        cleaned = clean_characters(cleaned, emoji_list, replacement='')\n",
    "        cleaned = replace_specific_words(cleaned, replace_list, replacement='')\n",
    "        cleaned = remove_tel_number(cleaned)\n",
    "        cleaned = remove_link_in_text(cleaned)\n",
    "        cleaned = remove_account_in_text(cleaned)\n",
    "        cleaned = clean_date(cleaned, replacement='')\n",
    "        cleaned = replace_eng_words(line=cleaned, replacement='')\n",
    "\n",
    "        # Cleaning the whitespaces\n",
    "        cleaned = re.sub(r'\\s+', ' ', cleaned).strip()\n",
    "\n",
    "        # write length of text is greater than 25\n",
    "        if cleaned.strip() !=\"\" and len(cleaned.strip()) > LENGTH_TR:\n",
    "            cleaned_data.append(cleaned.strip())\n",
    "            \n",
    "            #write_new_file(after_clean_file, cleaned.strip())\n",
    "\n",
    "create_txt(cleaned_data, after_clean_file)"
   ]
  },
  {
   "cell_type": "markdown",
   "id": "1d06d07f",
   "metadata": {},
   "source": [
    "## Clean and wrtie line by line"
   ]
  },
  {
   "cell_type": "code",
   "execution_count": null,
   "id": "650db6f5",
   "metadata": {},
   "outputs": [],
   "source": [
    "input_text_file = r\"/Volumes/CloudSource/CloudSource_share/WebScraping_API/dataset/text_dataset/sakecomi(drink)/scraped_data/sakecomi(drink).txt\"\n",
    "after_clean_file = r'total-clean.txt'\n",
    "\n",
    "sentences  = txt_to_list(input_text_file)\n",
    "\n",
    "for sentence in sentences:\n",
    "    cleaned = clean_specific_words(sentence, remove_list=special_words_list)\n",
    "    cleaned = clean_characters(cleaned, emoji_list, replacement='')\n",
    "    cleaned = replace_specific_words(cleaned, replace_list, replacement='')\n",
    "    cleaned = remove_tel_number(cleaned)\n",
    "    cleaned = remove_link_in_text(cleaned)\n",
    "    cleaned = remove_account_in_text(cleaned)\n",
    "    cleaned = clean_date(cleaned, replacement='')\n",
    "    cleaned = replace_eng_words(line=cleaned, replacement='')\n",
    "    \n",
    "    # Cleaning the whitespaces\n",
    "    cleaned = re.sub(r'\\s+', ' ', cleaned).strip()\n",
    "    \n",
    "    # write length of text is greater than 25\n",
    "    if cleaned.strip() !=\"\" and len(cleaned.strip()) > LENGTH_TR:\n",
    "        write_new_file(after_clean_file, cleaned.strip())"
   ]
  }
 ],
 "metadata": {
  "kernelspec": {
   "display_name": "Python 3.9.12 ('base')",
   "language": "python",
   "name": "python3"
  },
  "language_info": {
   "codemirror_mode": {
    "name": "ipython",
    "version": 3
   },
   "file_extension": ".py",
   "mimetype": "text/x-python",
   "name": "python",
   "nbconvert_exporter": "python",
   "pygments_lexer": "ipython3",
   "version": "3.9.12"
  },
  "vscode": {
   "interpreter": {
    "hash": "ffdbdde1c7f3cb0c6e4302d47b8b69bbc9567b6e444b9944e0284485fba4246d"
   }
  }
 },
 "nbformat": 4,
 "nbformat_minor": 5
}
