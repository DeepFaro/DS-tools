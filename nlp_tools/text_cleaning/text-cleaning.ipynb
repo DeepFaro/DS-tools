{
 "cells": [
  {
   "cell_type": "markdown",
   "id": "94cbb654",
   "metadata": {},
   "source": [
    "## Clean emojis\n",
    "\n",
    "\n",
    "This tool is to clean emoji.<br>\n",
    "you can add new emoji in emojis.txt to clean or replace with space/specific char."
   ]
  },
  {
   "cell_type": "code",
   "execution_count": 1,
   "id": "53ca1d91",
   "metadata": {},
   "outputs": [],
   "source": [
    "def write_new_file(fname, line):\n",
    "    \"\"\"write new file\"\"\"\n",
    "    file = open(fname, \"a\", encoding=\"utf-8\")\n",
    "    file.write(line)\n",
    "\n",
    "\n",
    "def clean_characters(fname, remove_list, replacement):\n",
    "    \"\"\"\n",
    "    params:\n",
    "    read text file - fname\n",
    "    emoji list to remove - remove_list\n",
    "    new replace char (it can be space or specific char)\n",
    "    -\n",
    "    save clean text in new file\n",
    "       \n",
    "    \"\"\"\n",
    "    file = open(fname, \"r\", encoding=\"utf-8\")\n",
    "    for line in file:\n",
    "        for character in line:\n",
    "            if character in remove_list:\n",
    "                line = line.replace(character, replacement)\n",
    "        write_new_file(fname='after-cleaned-emojis.txt', line=line)"
   ]
  },
  {
   "cell_type": "code",
   "execution_count": 2,
   "id": "d5f33bd3-bd9f-4262-9eb7-24875f2fed59",
   "metadata": {},
   "outputs": [],
   "source": [
    "def txt_to_list(fname):\n",
    "    \"\"\"read text file line by line\"\"\"\n",
    "    file = open(fname, \"r\", encoding=\"utf-8\")\n",
    "    item_list = []\n",
    "\n",
    "    for line in file:\n",
    "        line = line.strip()\n",
    "        item_list.append(line.replace('\\n',''))\n",
    "    return item_list"
   ]
  },
  {
   "cell_type": "code",
   "execution_count": 3,
   "id": "601a3ffb-273e-4277-9daf-4002fb0e1d85",
   "metadata": {},
   "outputs": [],
   "source": [
    "emoji_list = txt_to_list(fname='emojis.txt')"
   ]
  },
  {
   "cell_type": "code",
   "execution_count": 5,
   "id": "e3a85305-3eac-421b-87ef-ad574d2d3e55",
   "metadata": {},
   "outputs": [],
   "source": [
    "clean_characters(fname='all_testing.txt', remove_list=emoji_list, replacement='-')"
   ]
  }
 ],
 "metadata": {
  "interpreter": {
   "hash": "7bf549bcfbdd48dc6f984b1394fe292226f9ee0fe2edfef41a38f63dca90de25"
  },
  "kernelspec": {
   "display_name": "Python 3.8.12 ('venv')",
   "language": "python",
   "name": "python3"
  },
  "language_info": {
   "codemirror_mode": {
    "name": "ipython",
    "version": 3
   },
   "file_extension": ".py",
   "mimetype": "text/x-python",
   "name": "python",
   "nbconvert_exporter": "python",
   "pygments_lexer": "ipython3",
   "version": "3.11.3"
  }
 },
 "nbformat": 4,
 "nbformat_minor": 5
}
